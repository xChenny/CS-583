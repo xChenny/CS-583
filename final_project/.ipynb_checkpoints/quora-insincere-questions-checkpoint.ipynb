{
 "cells": [
  {
   "cell_type": "markdown",
   "metadata": {},
   "source": [
    "# 1. First Steps\n",
    "\n",
    "## 1.1 Load Data\n",
    "\n",
    "We use pandas to load data from `.csv` files into a Pandas Dataframe. We will utilize this dataframe to look at our data"
   ]
  },
  {
   "cell_type": "code",
   "execution_count": 1,
   "metadata": {
    "_cell_guid": "b1076dfc-b9ad-4769-8c92-a6c4dae69d19",
    "_uuid": "8f2839f25d086af736a60e9eeb907d3b93b6e0e5"
   },
   "outputs": [
    {
     "name": "stdout",
     "output_type": "stream",
     "text": [
      "(1175509, 3)\n",
      "(130613, 3)\n",
      "(375806, 2)\n"
     ]
    }
   ],
   "source": [
    "import numpy as np # linear algebra\n",
    "import pandas as pd # data processing, CSV file I/O (e.g. pd.read_csv)\n",
    "from sklearn.model_selection import train_test_split\n",
    "import os\n",
    "import gc\n",
    "\n",
    "# Get data from csv as pandas dataframe\n",
    "train_df = pd.read_csv('../input/train.csv')\n",
    "test_df = pd.read_csv('../input/test.csv')\n",
    "\n",
    "IN_DEVELOPMENT = False\n",
    "\n",
    "if IN_DEVELOPMENT:\n",
    "    # reduce the number of samples for quicker dev\n",
    "    train_df = train_df[:500000]\n",
    "    test_df = test_df[:150000]\n",
    "\n",
    "# split train data into validation and train data\n",
    "train_df, val_df = train_test_split(train_df, test_size=0.1, random_state=2018)\n",
    "\n",
    "print(train_df.shape)\n",
    "print(val_df.shape)\n",
    "print(test_df.shape)"
   ]
  },
  {
   "cell_type": "markdown",
   "metadata": {},
   "source": [
    "## 1.2 Analyze our Data\n",
    "\n",
    "Ideally, I want to look at our data and see if our training data is somehow skewed in a certain way. I seek answers to the following question(s):\n",
    "\n",
    "1. What is the proportion of insincere questions to sincere questions in our training data?"
   ]
  },
  {
   "cell_type": "markdown",
   "metadata": {},
   "source": [
    "### 1.2.1 What is the proportion of insincere questions to sincere questions in our training data?"
   ]
  },
  {
   "cell_type": "code",
   "execution_count": 2,
   "metadata": {},
   "outputs": [
    {
     "name": "stdout",
     "output_type": "stream",
     "text": [
      "Mean of target:\n",
      "Closer to 0 -> More Sincere Questions\n",
      "Closer to 1 -> More Insincere Questions\n"
     ]
    },
    {
     "data": {
      "text/plain": [
       "0.061832789030113765"
      ]
     },
     "execution_count": 2,
     "metadata": {},
     "output_type": "execute_result"
    }
   ],
   "source": [
    "print(\"Mean of target:\")\n",
    "print(\"Closer to 0 -> More Sincere Questions\")\n",
    "print(\"Closer to 1 -> More Insincere Questions\")\n",
    "train_df.loc[:, \"target\"].mean()"
   ]
  },
  {
   "cell_type": "markdown",
   "metadata": {},
   "source": [
    "We see from the results that there are significantly more sincere questions (mean = ~0.06). This can impact our model because a model that says that all questions are sincere would do pretty well here. (~93% correct)"
   ]
  },
  {
   "cell_type": "markdown",
   "metadata": {},
   "source": [
    "## 1.3 Create Baseline Models For Comparison\n",
    "\n",
    "1. 50-50 Chance Random guessing\n",
    "2. Naively implemented Sentiment Analysis (Not Neural net-based)\n",
    "3. Model without pretrained word embedding layer"
   ]
  },
  {
   "cell_type": "markdown",
   "metadata": {},
   "source": [
    "### 1.3.1 Random Guess Model"
   ]
  },
  {
   "cell_type": "code",
   "execution_count": 3,
   "metadata": {},
   "outputs": [
    {
     "name": "stdout",
     "output_type": "stream",
     "text": [
      "0.5000293489883957\n"
     ]
    }
   ],
   "source": [
    "from random import randint\n",
    "\n",
    "def guess_model(data):\n",
    "    num_correct, num_samples = 0, 0\n",
    "    for sample in data:\n",
    "        prediction = randint(0, 1)\n",
    "        if prediction == sample:\n",
    "            num_correct += 1\n",
    "        num_samples += 1\n",
    "    return num_correct / num_samples\n",
    "\n",
    "train_data = train_df.loc[:, 'target']\n",
    "print(guess_model(train_data))"
   ]
  },
  {
   "cell_type": "markdown",
   "metadata": {},
   "source": [
    "As one would expect, this model is roughly 50% accurate in binary classification. Let's see if we can do better with our other baseline models"
   ]
  },
  {
   "cell_type": "markdown",
   "metadata": {},
   "source": [
    "### 1.3.2 Naively Implemented Sentiment Analysis\n",
    "\n",
    "We will create a model that performs regular sentiment analysis (negative / positive), and hope that positive texts will correlate well to sincere texts, and likewise for negative texts to insincere texts.\n",
    "\n",
    "The way this implementation works is that it takes the polarity of each text as a whole if it's more positive, then this model's prediction will be that it is sincere, if not, then the model's prediction will be that it is not sincere.\n",
    "\n",
    "A caveat with this approach is that this model is unable to understand the relationship that words can have with each other. Meaning, that at the end of the day, we are looking at a word-by-word analysis of this text, and not considering the relationship of different words can have with each other that can alter the meaning of sentences.\n",
    "\n",
    "```\n",
    "ie: hang a man (negative. This basically means to kill a man)\n",
    "ie: hang man (neutral. This is a game, so not really negative.)\n",
    "```\n",
    "\n",
    "The previous two sentences share 2 words with each other, and have drastically different meanings and there are many other similar examples, so I expect that the accuracy of this model to be either around the same as the 50-50 model, or lower."
   ]
  },
  {
   "cell_type": "code",
   "execution_count": 4,
   "metadata": {},
   "outputs": [
    {
     "name": "stdout",
     "output_type": "stream",
     "text": [
      "0.3695\n"
     ]
    }
   ],
   "source": [
    "from textblob import TextBlob\n",
    "\n",
    "def sentiment_analysis_model(data):\n",
    "    num_correct, num_samples = 0, 0\n",
    "    for (text, label) in data:\n",
    "        sentiment = TextBlob(text).sentiment\n",
    "        # polarity is -1 to 1\n",
    "        polarity = (sentiment.polarity + 1) / 2\n",
    "        # we want to flip here: low polarity -> negative connotation, so we need to round and then flip values\n",
    "        prediction = 0 if round(polarity) == 1 else 1\n",
    "        if prediction == label:\n",
    "            num_correct += 1\n",
    "        num_samples += 1\n",
    "    return num_correct / num_samples\n",
    "        \n",
    "# the textblob library takes quite a bit of time, so we limit our samples to 10000\n",
    "sent_analysis_data = train_df.loc[:, ['question_text', 'target']].values[:10000]\n",
    "\n",
    "print(sentiment_analysis_model(sent_analysis_data))"
   ]
  },
  {
   "cell_type": "markdown",
   "metadata": {},
   "source": [
    "This model's accuracy is quite low (~36%), which I suppose has to do with a low correlation between sentiment (positive/negative) and sincerity in texts as well as the aforementioned caveat in the previous markdown cell."
   ]
  },
  {
   "cell_type": "markdown",
   "metadata": {},
   "source": [
    "### 1.3.3 Deep Learning Model without pretrained embedding layer\n",
    "\n",
    "This model is below in section 4"
   ]
  },
  {
   "cell_type": "code",
   "execution_count": 5,
   "metadata": {},
   "outputs": [
    {
     "data": {
      "text/plain": [
       "1450"
      ]
     },
     "execution_count": 5,
     "metadata": {},
     "output_type": "execute_result"
    }
   ],
   "source": [
    "# Cleanup any unused vars\n",
    "del sent_analysis_data, train_data\n",
    "# manually use garbage collector to clean up any unused variables\n",
    "gc.collect()"
   ]
  },
  {
   "cell_type": "markdown",
   "metadata": {},
   "source": [
    "# 2. Preprocess Data"
   ]
  },
  {
   "cell_type": "code",
   "execution_count": 6,
   "metadata": {
    "_cell_guid": "79c7e3d0-c299-4dcb-8224-4455121ee9b0",
    "_uuid": "d629ff2d2480ee46fbb7e2d37f6b5fab8052498a"
   },
   "outputs": [],
   "source": [
    "from unicodedata import normalize\n",
    "import re\n",
    "import string\n",
    "\n",
    "# Preprocess Sentences\n",
    "def clean_data(lines):\n",
    "    cleaned = list()\n",
    "    # prepare regex for char filtering\n",
    "    re_print = re.compile('[^%s]' % re.escape(string.printable))\n",
    "    # prepare translation table for removing punctuation\n",
    "    table = str.maketrans('', '', string.punctuation)\n",
    "    max_length = 0\n",
    "    for line in lines:\n",
    "        # normalize unicode characters\n",
    "        line = normalize('NFD', line).encode('ascii', 'ignore')\n",
    "        line = line.decode('UTF-8')\n",
    "        # tokenize on white space\n",
    "        line = line.split()\n",
    "        # convert to lowercase\n",
    "        line = [word.lower() for word in line]\n",
    "        # remove punctuation from each token\n",
    "        line = [word.translate(table) for word in line]\n",
    "        # remove non-printable chars form each token\n",
    "        line = [re_print.sub('', w) for w in line]\n",
    "        # remove tokens with numbers in them\n",
    "        line = [word for word in line if word.isalpha()]\n",
    "        length = len(line)\n",
    "        if length > max_length:\n",
    "            max_length = length\n",
    "        # store as string\n",
    "        line = ' '.join(line)\n",
    "        cleaned.append(line)\n",
    "    return np.array(cleaned), max_length"
   ]
  },
  {
   "cell_type": "code",
   "execution_count": 7,
   "metadata": {},
   "outputs": [
    {
     "name": "stdout",
     "output_type": "stream",
     "text": [
      "what have been the best exhibits at the museo del prado in madrid\n",
      "how can i rotate batch image files\n",
      "which is the best cable operator in thane west area\n",
      "how do i expand factor and simplify in algebra\n",
      "do you judge people often\n",
      "how do i get above in icse in all subjects in\n",
      "how do i use the grid method\n",
      "can you hang a poster diagonally if you have a good reason for it\n",
      "do many bulgarians consider macedonia part of bulgaria\n",
      "did you have any superb business india on your mind\n"
     ]
    }
   ],
   "source": [
    "# fill up the missing values\n",
    "train_X = train_df[\"question_text\"].fillna(\"_na_\").values\n",
    "val_X = val_df[\"question_text\"].fillna(\"_na_\").values\n",
    "test_X = test_df[\"question_text\"].fillna(\"_na_\").values\n",
    "\n",
    "train_X, max_len_trainX = clean_data(train_X)\n",
    "val_X, max_len_valX = clean_data(val_X)\n",
    "test_X, max_len_testX = clean_data(test_X)\n",
    "\n",
    "for i in range(10):\n",
    "    print(train_X[i])"
   ]
  },
  {
   "cell_type": "markdown",
   "metadata": {},
   "source": [
    "# 3. Text to Sequence"
   ]
  },
  {
   "cell_type": "markdown",
   "metadata": {},
   "source": [
    "## 3.1 Define tunable parameters for preprocessing texts"
   ]
  },
  {
   "cell_type": "code",
   "execution_count": 8,
   "metadata": {},
   "outputs": [],
   "source": [
    "## some config values \n",
    "embed_size = 300 # how big is each word vector\n",
    "max_features = 50000 # how many unique words to use (i.e num rows in embedding vector)\n",
    "maxlen = 100 # max number of words in a question to use"
   ]
  },
  {
   "cell_type": "markdown",
   "metadata": {},
   "source": [
    "## 3.2 Preprocess Texts\n",
    "\n",
    "We use the keras `preprocessing` module to tokenize (`preprocessing.text.Tokenizer`) our text and then pad our resulting sequences with 0's at the end"
   ]
  },
  {
   "cell_type": "code",
   "execution_count": 9,
   "metadata": {},
   "outputs": [
    {
     "name": "stderr",
     "output_type": "stream",
     "text": [
      "Using TensorFlow backend.\n"
     ]
    },
    {
     "name": "stdout",
     "output_type": "stream",
     "text": [
      "Finished fitting tokenizer! Turning texts to sequences...\n",
      "Finished turning texts to sequences! Padding sequences...\n",
      "Finished padding sequences! Getting target labels...\n",
      "Finished getting target labels!\n",
      "\n",
      "shape of train_seq_X: (1175509, 100)\n",
      "shape of val_seq_X: (130613, 100)\n",
      "shape of test_seq_X: (375806, 100)\n",
      "shape of train_Y: (1175509,)\n",
      "shape of val_Y: (130613,)\n"
     ]
    }
   ],
   "source": [
    "from keras.preprocessing.text import Tokenizer\n",
    "from keras.preprocessing.sequence import pad_sequences\n",
    "\n",
    "# word-level tokenizing\n",
    "tokenizer = Tokenizer(num_words=max_features)\n",
    "\n",
    "# train tokenizer\n",
    "tokenizer.fit_on_texts(list(train_X))\n",
    "print(\"Finished fitting tokenizer! Turning texts to sequences...\")\n",
    "\n",
    "# tokenized texts -> sequences\n",
    "train_seq_X = tokenizer.texts_to_sequences(train_X)\n",
    "val_seq_X = tokenizer.texts_to_sequences(val_X)\n",
    "test_seq_X = tokenizer.texts_to_sequences(test_X)\n",
    "print(\"Finished turning texts to sequences! Padding sequences...\")\n",
    "\n",
    "# pad sequences\n",
    "train_seq_X = pad_sequences(train_seq_X, maxlen=maxlen, padding='post')\n",
    "val_seq_X = pad_sequences(val_seq_X, maxlen=maxlen, padding='post')\n",
    "test_seq_X = pad_sequences(test_seq_X, maxlen=maxlen, padding='post')\n",
    "print(\"Finished padding sequences! Getting target labels...\")\n",
    "\n",
    "# get target labels\n",
    "train_Y = train_df[\"target\"].values\n",
    "val_Y = val_df[\"target\"].values\n",
    "print(\"Finished getting target labels!\\n\")\n",
    "\n",
    "print(\"shape of train_seq_X:\", train_seq_X.shape)\n",
    "print(\"shape of val_seq_X:\", val_seq_X.shape)\n",
    "print(\"shape of test_seq_X:\", test_seq_X.shape)\n",
    "\n",
    "print(\"shape of train_Y:\", train_Y.shape)\n",
    "print(\"shape of val_Y:\", val_Y.shape)"
   ]
  },
  {
   "cell_type": "code",
   "execution_count": 10,
   "metadata": {},
   "outputs": [
    {
     "name": "stdout",
     "output_type": "stream",
     "text": [
      "dataframes and texts already deleted!\n"
     ]
    }
   ],
   "source": [
    "try:\n",
    "    del train_df, val_df, train_X, val_X, test_X\n",
    "    import gc; gc.collect()\n",
    "    time.sleep(10)\n",
    "    print(\"cleaned dataframes and texts!\")\n",
    "except NameError:\n",
    "    print(\"dataframes and texts already deleted!\")"
   ]
  },
  {
   "cell_type": "markdown",
   "metadata": {},
   "source": [
    "# 4. Embedding, Creating and Training Model\n",
    "\n",
    "We create a matrix of word associations in relationship to our texts.\n",
    "\n",
    "## 4.1 Creating Embedding Dictionaries from Supplied Files\n",
    "\n",
    "For this part: I referred to intuitions made in this [kernel](https://www.kaggle.com/sudalairajkumar/a-look-at-different-embeddings)"
   ]
  },
  {
   "cell_type": "code",
   "execution_count": 11,
   "metadata": {},
   "outputs": [],
   "source": [
    "# Embedding\n",
    "PARAGRAM_EMBED = '../input/embeddings/paragram_300_sl999/paragram_300_sl999.txt'\n",
    "WIKI_NEWS_EMBED = '../input/embeddings/wiki-news-300d-1M/wiki-news-300d-1M.vec'\n",
    "GLOVE_EMBED = '../input/embeddings/glove.840B.300d/glove.840B.300d.txt'\n",
    "\n",
    "def get_embeddings(file):\n",
    "    \"\"\"return as a numpy array the coefficients of word embeddings from a file\"\"\"\n",
    "    def get_coefs(word,*arr): \n",
    "        return word, np.asarray(arr, dtype='float32')\n",
    "    \n",
    "    if \"glove\" in file:\n",
    "        return dict(get_coefs(*o.split(\" \")) for o in open(file))\n",
    "    elif \"wiki\" in file:\n",
    "        return dict(get_coefs(*o.split(\" \")) for o in open(file) if len(o) > 100)\n",
    "    elif \"paragram\" in file:\n",
    "        return dict(get_coefs(*o.split(\" \")) for o in open(file, encoding=\"utf8\", errors='ignore') if len(o) > 100)\n",
    "    else:\n",
    "        print(\"invalid embeddings file\")"
   ]
  },
  {
   "cell_type": "markdown",
   "metadata": {},
   "source": [
    "## 4.2 Create model\n",
    "\n",
    "Here, we use the embedding that we created in the cell before to create a model with an embedding layer whose weights we will use the embedding from the supplied files"
   ]
  },
  {
   "cell_type": "code",
   "execution_count": 12,
   "metadata": {},
   "outputs": [],
   "source": [
    "from keras.layers import Input, Embedding, Dense, Input, LSTM, Embedding\n",
    "from keras.layers import Dropout, Activation, CuDNNGRU, Conv1D, Bidirectional, GlobalMaxPool1D\n",
    "from keras.models import Model\n",
    "\n",
    "def create_model(embedding_matrix, embed_size, maxlen=maxlen, max_features=max_features):\n",
    "    \"\"\"Create model for binary classification of texts as insincere vs. not insincere\"\"\"\n",
    "    inp = Input(shape=(maxlen,))\n",
    "    if embedding_matrix is not None:\n",
    "        x = Embedding(max_features, embed_size, weights=[embedding_matrix])(inp)\n",
    "    else:\n",
    "        x = Embedding(max_features, embed_size)(inp)\n",
    "    x = Bidirectional(CuDNNGRU(64, return_sequences=True))(x)\n",
    "    x = GlobalMaxPool1D()(x)\n",
    "    x = Dense(16, activation=\"relu\")(x)\n",
    "    x = Dropout(0.1)(x)\n",
    "    x = Dense(1, activation=\"sigmoid\")(x)\n",
    "    model = Model(inputs=inp, outputs=x)\n",
    "    return model\n",
    "\n",
    "def setup_model(embeddings_index, tokenizer, embed_size):\n",
    "    \"\"\"Extract necessary components of embedding dictionaries and create a model\"\"\"\n",
    "    if not embeddings_index:\n",
    "        return create_model(None, embed_size)\n",
    "    all_embs = np.stack(embeddings_index.values())\n",
    "    emb_mean,emb_std = all_embs.mean(), all_embs.std()\n",
    "    embed_size = all_embs.shape[1]\n",
    "\n",
    "    word_index = tokenizer.word_index\n",
    "    nb_words = min(max_features, len(word_index))\n",
    "    embedding_matrix = np.random.normal(emb_mean, emb_std, (nb_words, embed_size))\n",
    "    for word, i in word_index.items():\n",
    "        if i >= max_features: \n",
    "            continue\n",
    "        embedding_vector = embeddings_index.get(word)\n",
    "        if embedding_vector is not None: \n",
    "            embedding_matrix[i] = embedding_vector\n",
    "            \n",
    "    # create model        \n",
    "    return create_model(embedding_matrix, embed_size)"
   ]
  },
  {
   "cell_type": "markdown",
   "metadata": {},
   "source": [
    "## 4.3 Compile and Train our Model\n",
    "\n",
    "We get our word embeddings, then create, compile and train models. After each test, we clean out our memory, so that we can train another model without incurring massive memory usage."
   ]
  },
  {
   "cell_type": "markdown",
   "metadata": {},
   "source": [
    "### 4.3.1 Baseline Model"
   ]
  },
  {
   "cell_type": "code",
   "execution_count": 13,
   "metadata": {},
   "outputs": [
    {
     "name": "stdout",
     "output_type": "stream",
     "text": [
      "baseline model:\n",
      "WARNING:tensorflow:From /opt/conda/lib/python3.6/site-packages/tensorflow/python/framework/op_def_library.py:263: colocate_with (from tensorflow.python.framework.ops) is deprecated and will be removed in a future version.\n",
      "Instructions for updating:\n",
      "Colocations handled automatically by placer.\n",
      "WARNING:tensorflow:From /opt/conda/lib/python3.6/site-packages/keras/backend/tensorflow_backend.py:3445: calling dropout (from tensorflow.python.ops.nn_ops) with keep_prob is deprecated and will be removed in a future version.\n",
      "Instructions for updating:\n",
      "Please use `rate` instead of `keep_prob`. Rate should be set to `rate = 1 - keep_prob`.\n",
      "_________________________________________________________________\n",
      "Layer (type)                 Output Shape              Param #   \n",
      "=================================================================\n",
      "input_1 (InputLayer)         (None, 100)               0         \n",
      "_________________________________________________________________\n",
      "embedding_1 (Embedding)      (None, 100, 300)          15000000  \n",
      "_________________________________________________________________\n",
      "bidirectional_1 (Bidirection (None, 100, 128)          140544    \n",
      "_________________________________________________________________\n",
      "global_max_pooling1d_1 (Glob (None, 128)               0         \n",
      "_________________________________________________________________\n",
      "dense_1 (Dense)              (None, 16)                2064      \n",
      "_________________________________________________________________\n",
      "dropout_1 (Dropout)          (None, 16)                0         \n",
      "_________________________________________________________________\n",
      "dense_2 (Dense)              (None, 1)                 17        \n",
      "=================================================================\n",
      "Total params: 15,142,625\n",
      "Trainable params: 15,142,625\n",
      "Non-trainable params: 0\n",
      "_________________________________________________________________\n"
     ]
    }
   ],
   "source": [
    "# No pretrained word embeddings here.\n",
    "\n",
    "print(\"baseline model:\")\n",
    "baseline_model = setup_model(None, tokenizer, embed_size)\n",
    "baseline_model.summary()"
   ]
  },
  {
   "cell_type": "code",
   "execution_count": 14,
   "metadata": {},
   "outputs": [],
   "source": [
    "# compile model\n",
    "baseline_model.compile(loss='binary_crossentropy', optimizer='adam', metrics=['accuracy'])"
   ]
  },
  {
   "cell_type": "code",
   "execution_count": 15,
   "metadata": {},
   "outputs": [
    {
     "name": "stdout",
     "output_type": "stream",
     "text": [
      "WARNING:tensorflow:From /opt/conda/lib/python3.6/site-packages/tensorflow/python/ops/math_ops.py:3066: to_int32 (from tensorflow.python.ops.math_ops) is deprecated and will be removed in a future version.\n",
      "Instructions for updating:\n",
      "Use tf.cast instead.\n",
      "WARNING:tensorflow:From /opt/conda/lib/python3.6/site-packages/tensorflow/python/ops/math_grad.py:102: div (from tensorflow.python.ops.math_ops) is deprecated and will be removed in a future version.\n",
      "Instructions for updating:\n",
      "Deprecated in favor of operator or tf.math.divide.\n",
      "Train on 1175509 samples, validate on 130613 samples\n",
      "Epoch 1/2\n",
      "1175509/1175509 [==============================] - 91s 78us/step - loss: 0.1214 - acc: 0.9537 - val_loss: 0.1077 - val_acc: 0.9571\n",
      "Epoch 2/2\n",
      "1175509/1175509 [==============================] - 88s 74us/step - loss: 0.0982 - acc: 0.9606 - val_loss: 0.1072 - val_acc: 0.9572\n"
     ]
    }
   ],
   "source": [
    "# Fit Model\n",
    "history = baseline_model.fit(train_seq_X, train_Y, batch_size=512, epochs=2, validation_data=(val_seq_X, val_Y))"
   ]
  },
  {
   "cell_type": "code",
   "execution_count": 16,
   "metadata": {},
   "outputs": [
    {
     "data": {
      "image/png": "[encoded data removed]",
      "text/plain": [
       "<Figure size 432x288 with 1 Axes>"
      ]
     },
     "metadata": {},
     "output_type": "display_data"
    }
   ],
   "source": [
    "import matplotlib.pyplot as plt\n",
    "%matplotlib inline\n",
    "\n",
    "loss = history.history['loss']\n",
    "val_loss = history.history['val_loss']\n",
    "\n",
    "epochs = range(len(loss))\n",
    "\n",
    "plt.plot(epochs, loss, 'bo', label='Training Loss')\n",
    "plt.plot(epochs, val_loss, 'r', label='Validation Loss')\n",
    "plt.xlabel('Epochs')\n",
    "plt.ylabel('Loss')\n",
    "plt.legend()\n",
    "plt.show()"
   ]
  },
  {
   "cell_type": "code",
   "execution_count": 17,
   "metadata": {},
   "outputs": [
    {
     "name": "stdout",
     "output_type": "stream",
     "text": [
      "130613/130613 [==============================] - 2s 16us/step\n"
     ]
    }
   ],
   "source": [
    "# Make a Prediction on the validation data set\n",
    "pred_base_val_y = baseline_model.predict([val_seq_X], batch_size=1024, verbose=1)"
   ]
  },
  {
   "cell_type": "code",
   "execution_count": 18,
   "metadata": {},
   "outputs": [],
   "source": [
    "import time\n",
    "\n",
    "# do some cleanup\n",
    "try:\n",
    "    del baseline_model\n",
    "    import gc; gc.collect()\n",
    "    time.sleep(10)\n",
    "except NameError:\n",
    "    print(\"baseline_model already deleted!\")"
   ]
  },
  {
   "cell_type": "markdown",
   "metadata": {},
   "source": [
    "### 4.3.2 Paragram Word Embeddings Model\n",
    "\n",
    "We use the weights obtained from the paragram word embeddings for our embedding layer"
   ]
  },
  {
   "cell_type": "code",
   "execution_count": 19,
   "metadata": {},
   "outputs": [
    {
     "name": "stdout",
     "output_type": "stream",
     "text": [
      "Loading paragram embeddings...\n",
      "checking if we already created paragram embeddings dict...\n",
      "we did not... creating paragram embeddings dictionary\n",
      "paragram model:\n"
     ]
    },
    {
     "name": "stderr",
     "output_type": "stream",
     "text": [
      "/opt/conda/lib/python3.6/site-packages/ipykernel_launcher.py:24: FutureWarning: arrays to stack must be passed as a \"sequence\" type such as list or tuple. Support for non-sequence iterables such as generators is deprecated as of NumPy 1.16 and will raise an error in the future.\n"
     ]
    },
    {
     "name": "stdout",
     "output_type": "stream",
     "text": [
      "_________________________________________________________________\n",
      "Layer (type)                 Output Shape              Param #   \n",
      "=================================================================\n",
      "input_2 (InputLayer)         (None, 100)               0         \n",
      "_________________________________________________________________\n",
      "embedding_2 (Embedding)      (None, 100, 300)          15000000  \n",
      "_________________________________________________________________\n",
      "bidirectional_2 (Bidirection (None, 100, 128)          140544    \n",
      "_________________________________________________________________\n",
      "global_max_pooling1d_2 (Glob (None, 128)               0         \n",
      "_________________________________________________________________\n",
      "dense_3 (Dense)              (None, 16)                2064      \n",
      "_________________________________________________________________\n",
      "dropout_2 (Dropout)          (None, 16)                0         \n",
      "_________________________________________________________________\n",
      "dense_4 (Dense)              (None, 1)                 17        \n",
      "=================================================================\n",
      "Total params: 15,142,625\n",
      "Trainable params: 15,142,625\n",
      "Non-trainable params: 0\n",
      "_________________________________________________________________\n"
     ]
    }
   ],
   "source": [
    "# Embedding indices of embedding file\n",
    "print(\"Loading paragram embeddings...\")\n",
    "try:\n",
    "    print(\"checking if we already created paragram embeddings dict...\")\n",
    "    paragram_embed_index\n",
    "    print(\"we already created it\")\n",
    "except NameError:\n",
    "    print(\"we did not... creating paragram embeddings dictionary\")\n",
    "    paragram_embed_index = get_embeddings(PARAGRAM_EMBED)\n",
    "\n",
    "# create model with embedding layer based on pretrained weights from paragram word embedding\n",
    "print(\"paragram model:\")\n",
    "paragram_model = setup_model(paragram_embed_index, tokenizer, embed_size)\n",
    "paragram_model.summary()"
   ]
  },
  {
   "cell_type": "code",
   "execution_count": 20,
   "metadata": {},
   "outputs": [],
   "source": [
    "# compile\n",
    "paragram_model.compile(loss='binary_crossentropy', optimizer='adam', metrics=['accuracy'])"
   ]
  },
  {
   "cell_type": "code",
   "execution_count": 21,
   "metadata": {},
   "outputs": [
    {
     "name": "stdout",
     "output_type": "stream",
     "text": [
      "Train on 1175509 samples, validate on 130613 samples\n",
      "Epoch 1/2\n",
      "1175509/1175509 [==============================] - 90s 77us/step - loss: 0.1171 - acc: 0.9538 - val_loss: 0.1032 - val_acc: 0.9587\n",
      "Epoch 2/2\n",
      "1175509/1175509 [==============================] - 87s 74us/step - loss: 0.0960 - acc: 0.9620 - val_loss: 0.1019 - val_acc: 0.9592\n"
     ]
    }
   ],
   "source": [
    "# Fit Model\n",
    "history = paragram_model.fit(train_seq_X, train_Y, batch_size=512, epochs=2, validation_data=(val_seq_X, val_Y))"
   ]
  },
  {
   "cell_type": "code",
   "execution_count": 22,
   "metadata": {},
   "outputs": [
    {
     "data": {
      "image/png": "[encoded data removed]",
      "text/plain": [
       "<Figure size 432x288 with 1 Axes>"
      ]
     },
     "metadata": {},
     "output_type": "display_data"
    }
   ],
   "source": [
    "import matplotlib.pyplot as plt\n",
    "%matplotlib inline\n",
    "\n",
    "loss = history.history['loss']\n",
    "val_loss = history.history['val_loss']\n",
    "\n",
    "epochs = range(len(loss))\n",
    "\n",
    "plt.plot(epochs, loss, 'bo', label='Training Loss')\n",
    "plt.plot(epochs, val_loss, 'r', label='Validation Loss')\n",
    "plt.xlabel('Epochs')\n",
    "plt.ylabel('Loss')\n",
    "plt.legend()\n",
    "plt.show()"
   ]
  },
  {
   "cell_type": "code",
   "execution_count": 23,
   "metadata": {},
   "outputs": [
    {
     "name": "stdout",
     "output_type": "stream",
     "text": [
      "130613/130613 [==============================] - 2s 17us/step\n",
      "375806/375806 [==============================] - 6s 15us/step\n"
     ]
    }
   ],
   "source": [
    "# Make a Prediction on the validation data set\n",
    "pred_paragram_val_y = paragram_model.predict([val_seq_X], batch_size=1024, verbose=1)\n",
    "# Make a Prediction on the test data set\n",
    "pred_paragram_test_y = paragram_model.predict([test_seq_X], batch_size=1024, verbose=1)"
   ]
  },
  {
   "cell_type": "code",
   "execution_count": 24,
   "metadata": {},
   "outputs": [
    {
     "name": "stdout",
     "output_type": "stream",
     "text": [
      "cleaned baseline_model vars!\n"
     ]
    }
   ],
   "source": [
    "try:\n",
    "    del paragram_embed_index, paragram_model\n",
    "    gc.collect()\n",
    "    time.sleep(10)\n",
    "    print(\"cleaned baseline_model vars!\")\n",
    "except NameError:\n",
    "    print(\"baseline_model already deleted!\")"
   ]
  },
  {
   "cell_type": "markdown",
   "metadata": {},
   "source": [
    "### 4.3.3 Glove Word Embeddings\n",
    "\n",
    "We use the weights obtained from the glove word embeddings for our embedding layer"
   ]
  },
  {
   "cell_type": "code",
   "execution_count": 25,
   "metadata": {},
   "outputs": [
    {
     "name": "stdout",
     "output_type": "stream",
     "text": [
      "Loading glove embeddings...\n",
      "checking if we already created glove embeddings dict...\n",
      "we did not... creating glove embeddings dictionary\n",
      "glove model:\n"
     ]
    },
    {
     "name": "stderr",
     "output_type": "stream",
     "text": [
      "/opt/conda/lib/python3.6/site-packages/ipykernel_launcher.py:24: FutureWarning: arrays to stack must be passed as a \"sequence\" type such as list or tuple. Support for non-sequence iterables such as generators is deprecated as of NumPy 1.16 and will raise an error in the future.\n"
     ]
    },
    {
     "name": "stdout",
     "output_type": "stream",
     "text": [
      "_________________________________________________________________\n",
      "Layer (type)                 Output Shape              Param #   \n",
      "=================================================================\n",
      "input_3 (InputLayer)         (None, 100)               0         \n",
      "_________________________________________________________________\n",
      "embedding_3 (Embedding)      (None, 100, 300)          15000000  \n",
      "_________________________________________________________________\n",
      "bidirectional_3 (Bidirection (None, 100, 128)          140544    \n",
      "_________________________________________________________________\n",
      "global_max_pooling1d_3 (Glob (None, 128)               0         \n",
      "_________________________________________________________________\n",
      "dense_5 (Dense)              (None, 16)                2064      \n",
      "_________________________________________________________________\n",
      "dropout_3 (Dropout)          (None, 16)                0         \n",
      "_________________________________________________________________\n",
      "dense_6 (Dense)              (None, 1)                 17        \n",
      "=================================================================\n",
      "Total params: 15,142,625\n",
      "Trainable params: 15,142,625\n",
      "Non-trainable params: 0\n",
      "_________________________________________________________________\n"
     ]
    }
   ],
   "source": [
    "# Embedding indices of embedding file\n",
    "print(\"Loading glove embeddings...\")\n",
    "try:\n",
    "    print(\"checking if we already created glove embeddings dict...\")\n",
    "    glove_embed_index\n",
    "    print(\"we already created it\")\n",
    "except NameError:\n",
    "    print(\"we did not... creating glove embeddings dictionary\")\n",
    "    glove_embed_index = get_embeddings(GLOVE_EMBED)\n",
    "\n",
    "# create model with embedding layer based on pretrained weights from paragram word embedding\n",
    "print(\"glove model:\")\n",
    "glove_model = setup_model(glove_embed_index, tokenizer, embed_size)\n",
    "glove_model.summary()"
   ]
  },
  {
   "cell_type": "code",
   "execution_count": 26,
   "metadata": {},
   "outputs": [],
   "source": [
    "# compile\n",
    "glove_model.compile(loss='binary_crossentropy', optimizer='adam', metrics=['accuracy'])"
   ]
  },
  {
   "cell_type": "code",
   "execution_count": 27,
   "metadata": {},
   "outputs": [
    {
     "name": "stdout",
     "output_type": "stream",
     "text": [
      "Train on 1175509 samples, validate on 130613 samples\n",
      "Epoch 1/2\n",
      "1175509/1175509 [==============================] - 89s 76us/step - loss: 0.1120 - acc: 0.9564 - val_loss: 0.1022 - val_acc: 0.9586\n",
      "Epoch 2/2\n",
      "1175509/1175509 [==============================] - 86s 74us/step - loss: 0.0929 - acc: 0.9629 - val_loss: 0.1007 - val_acc: 0.9596\n"
     ]
    }
   ],
   "source": [
    "# Fit Model\n",
    "history = glove_model.fit(train_seq_X, train_Y, batch_size=512, epochs=2, validation_data=(val_seq_X, val_Y))"
   ]
  },
  {
   "cell_type": "code",
   "execution_count": 28,
   "metadata": {},
   "outputs": [
    {
     "data": {
      "image/png": "[encoded data removed]",
      "text/plain": [
       "<Figure size 432x288 with 1 Axes>"
      ]
     },
     "metadata": {},
     "output_type": "display_data"
    }
   ],
   "source": [
    "import matplotlib.pyplot as plt\n",
    "%matplotlib inline\n",
    "\n",
    "loss = history.history['loss']\n",
    "val_loss = history.history['val_loss']\n",
    "\n",
    "epochs = range(len(loss))\n",
    "\n",
    "plt.plot(epochs, loss, 'bo', label='Training Loss')\n",
    "plt.plot(epochs, val_loss, 'r', label='Validation Loss')\n",
    "plt.xlabel('Epochs')\n",
    "plt.ylabel('Loss')\n",
    "plt.legend()\n",
    "plt.show()"
   ]
  },
  {
   "cell_type": "code",
   "execution_count": 29,
   "metadata": {},
   "outputs": [
    {
     "name": "stdout",
     "output_type": "stream",
     "text": [
      "130613/130613 [==============================] - 2s 19us/step\n",
      "375806/375806 [==============================] - 6s 15us/step\n"
     ]
    }
   ],
   "source": [
    "# Make a Prediction on the validation data set\n",
    "pred_glove_val_y = glove_model.predict([val_seq_X], batch_size=1024, verbose=1)\n",
    "# Make a Prediction on the test data set\n",
    "pred_glove_test_y = glove_model.predict([test_seq_X], batch_size=1024, verbose=1)"
   ]
  },
  {
   "cell_type": "code",
   "execution_count": 30,
   "metadata": {},
   "outputs": [
    {
     "name": "stdout",
     "output_type": "stream",
     "text": [
      "cleaned baseline_model vars!\n"
     ]
    }
   ],
   "source": [
    "try:\n",
    "    del glove_embed_index, glove_model\n",
    "    import gc; gc.collect()\n",
    "    time.sleep(10)\n",
    "    print(\"cleaned baseline_model vars!\")\n",
    "except NameError:\n",
    "    print(\"baseline_model already deleted!\")"
   ]
  },
  {
   "cell_type": "markdown",
   "metadata": {},
   "source": [
    "### 4.4.4 Wiki News Word Embedding Model\n",
    "\n",
    "We use the weights obtained from the glove word embeddings for our embedding layer"
   ]
  },
  {
   "cell_type": "code",
   "execution_count": 31,
   "metadata": {},
   "outputs": [
    {
     "name": "stdout",
     "output_type": "stream",
     "text": [
      "Loading wiki embeddings...\n",
      "checking if we already created wiki embeddings dict...\n",
      "we did not... creating wiki embeddings dictionary\n",
      "wikinews model:\n"
     ]
    },
    {
     "name": "stderr",
     "output_type": "stream",
     "text": [
      "/opt/conda/lib/python3.6/site-packages/ipykernel_launcher.py:24: FutureWarning: arrays to stack must be passed as a \"sequence\" type such as list or tuple. Support for non-sequence iterables such as generators is deprecated as of NumPy 1.16 and will raise an error in the future.\n"
     ]
    },
    {
     "name": "stdout",
     "output_type": "stream",
     "text": [
      "_________________________________________________________________\n",
      "Layer (type)                 Output Shape              Param #   \n",
      "=================================================================\n",
      "input_4 (InputLayer)         (None, 100)               0         \n",
      "_________________________________________________________________\n",
      "embedding_4 (Embedding)      (None, 100, 300)          15000000  \n",
      "_________________________________________________________________\n",
      "bidirectional_4 (Bidirection (None, 100, 128)          140544    \n",
      "_________________________________________________________________\n",
      "global_max_pooling1d_4 (Glob (None, 128)               0         \n",
      "_________________________________________________________________\n",
      "dense_7 (Dense)              (None, 16)                2064      \n",
      "_________________________________________________________________\n",
      "dropout_4 (Dropout)          (None, 16)                0         \n",
      "_________________________________________________________________\n",
      "dense_8 (Dense)              (None, 1)                 17        \n",
      "=================================================================\n",
      "Total params: 15,142,625\n",
      "Trainable params: 15,142,625\n",
      "Non-trainable params: 0\n",
      "_________________________________________________________________\n"
     ]
    }
   ],
   "source": [
    "# Embedding indices of embedding file\n",
    "print(\"Loading wiki embeddings...\")\n",
    "try:\n",
    "    print(\"checking if we already created wiki embeddings dict...\")\n",
    "    wiki_embed_index\n",
    "    print(\"we already created it\")\n",
    "except NameError:\n",
    "    print(\"we did not... creating wiki embeddings dictionary\")\n",
    "    wiki_embed_index = get_embeddings(WIKI_NEWS_EMBED)\n",
    "\n",
    "# create model with embedding layer based on pretrained weights from paragram word embedding\n",
    "print(\"wikinews model:\")\n",
    "wikinews_model = setup_model(wiki_embed_index, tokenizer, embed_size)\n",
    "wikinews_model.summary()"
   ]
  },
  {
   "cell_type": "code",
   "execution_count": 32,
   "metadata": {},
   "outputs": [],
   "source": [
    "# compile\n",
    "wikinews_model.compile(loss='binary_crossentropy', optimizer='adam', metrics=['accuracy'])"
   ]
  },
  {
   "cell_type": "code",
   "execution_count": 33,
   "metadata": {},
   "outputs": [
    {
     "name": "stdout",
     "output_type": "stream",
     "text": [
      "Train on 1175509 samples, validate on 130613 samples\n",
      "Epoch 1/2\n",
      "1175509/1175509 [==============================] - 89s 76us/step - loss: 0.1169 - acc: 0.9554 - val_loss: 0.1042 - val_acc: 0.9586\n",
      "Epoch 2/2\n",
      "1175509/1175509 [==============================] - 87s 74us/step - loss: 0.0942 - acc: 0.9628 - val_loss: 0.1035 - val_acc: 0.9591\n"
     ]
    }
   ],
   "source": [
    "# Fit Model\n",
    "history = wikinews_model.fit(train_seq_X, train_Y, batch_size=512, epochs=2, validation_data=(val_seq_X, val_Y))"
   ]
  },
  {
   "cell_type": "code",
   "execution_count": 34,
   "metadata": {},
   "outputs": [
    {
     "data": {
      "image/png": "[encoded data removed]",
      "text/plain": [
       "<Figure size 432x288 with 1 Axes>"
      ]
     },
     "metadata": {},
     "output_type": "display_data"
    }
   ],
   "source": [
    "import matplotlib.pyplot as plt\n",
    "%matplotlib inline\n",
    "\n",
    "loss = history.history['loss']\n",
    "val_loss = history.history['val_loss']\n",
    "\n",
    "epochs = range(len(loss))\n",
    "\n",
    "plt.plot(epochs, loss, 'bo', label='Training Loss')\n",
    "plt.plot(epochs, val_loss, 'r', label='Validation Loss')\n",
    "plt.xlabel('Epochs')\n",
    "plt.ylabel('Loss')\n",
    "plt.legend()\n",
    "plt.show()"
   ]
  },
  {
   "cell_type": "code",
   "execution_count": 35,
   "metadata": {},
   "outputs": [
    {
     "name": "stdout",
     "output_type": "stream",
     "text": [
      "130613/130613 [==============================] - 2s 18us/step\n",
      "375806/375806 [==============================] - 6s 15us/step\n"
     ]
    }
   ],
   "source": [
    "# Make a Prediction on the validation data set\n",
    "pred_wiki_val_y = wikinews_model.predict([val_seq_X], batch_size=1024, verbose=1)\n",
    "# Make a Prediction on the test data set\n",
    "pred_wiki_test_y = wikinews_model.predict([test_seq_X], batch_size=1024, verbose=1)"
   ]
  },
  {
   "cell_type": "code",
   "execution_count": 36,
   "metadata": {},
   "outputs": [
    {
     "name": "stdout",
     "output_type": "stream",
     "text": [
      "cleaned wikinews_model vars!\n"
     ]
    }
   ],
   "source": [
    "try:\n",
    "    del wiki_embed_index, wikinews_model\n",
    "    import gc; gc.collect()\n",
    "    time.sleep(10)\n",
    "    print(\"cleaned wikinews_model vars!\")\n",
    "except NameError:\n",
    "    print(\"wikinews_model already deleted!\")"
   ]
  },
  {
   "cell_type": "markdown",
   "metadata": {},
   "source": [
    "## 4.4 Analyze the Results\n",
    "\n",
    "Here, we use the f1-score metric to compare the baseline model with using 1 of each provided word embedding, and see which is the best"
   ]
  },
  {
   "cell_type": "code",
   "execution_count": 37,
   "metadata": {},
   "outputs": [
    {
     "name": "stdout",
     "output_type": "stream",
     "text": [
      "The best scores are:\n",
      "\n",
      "The best score for baseline model:\n",
      "Threshold: 0.32\n",
      "F1 score: 0.6548850735417483\n",
      "\n",
      "\n",
      "The best score for paragram model:\n",
      "Threshold: 0.34\n",
      "F1 score: 0.6746744499326448\n",
      "\n",
      "\n",
      "The best score for glove model:\n",
      "Threshold: 0.35\n",
      "F1 score: 0.6774870892684866\n",
      "\n",
      "\n",
      "The best score for wiki news model\n",
      "Threshold: 0.31\n",
      "F1 score: 0.6737046336452864\n",
      "\n",
      "\n"
     ]
    }
   ],
   "source": [
    "from sklearn.metrics import f1_score\n",
    "\n",
    "\n",
    "preds = [pred_base_val_y, pred_paragram_val_y, pred_glove_val_y, pred_wiki_val_y]\n",
    "pred_labels = ['baseline model:', 'paragram model:', 'glove model:', 'wiki news model']\n",
    "model_predictions = zip(preds, pred_labels)\n",
    "\n",
    "# Analyze results\n",
    "# The F1 score can be interpreted as a weighted average of the precision and recall\n",
    "# https://scikit-learn.org/stable/modules/generated/sklearn.metrics.f1_score.html\n",
    "best_scores = []\n",
    "for (pred, label) in model_predictions:\n",
    "    best_thresh, best_f1_score = 0, 0\n",
    "#     print(label)\n",
    "    for thresh in np.arange(0.1, 0.501, 0.01):\n",
    "        curr_thresh = np.round(thresh, 2)\n",
    "        curr_f1 = f1_score(val_Y,(pred>thresh).astype(int))\n",
    "        if curr_f1 > best_f1_score:\n",
    "            best_thresh = curr_thresh\n",
    "            best_f1_score = curr_f1\n",
    "#         print(\"F1 score at threshold {0} is {1}\".format(curr_thresh, curr_f1))\n",
    "    best_scores.append([best_thresh, best_f1_score])\n",
    "#     print('\\n')\n",
    "    \n",
    "print(\"The best scores are:\\n\")\n",
    "for ((thresh, f1), label) in zip(best_scores, pred_labels):\n",
    "    print(\"The best score for {0}\".format(label))\n",
    "    print(\"Threshold:\", thresh)\n",
    "    print(\"F1 score:\", f1)\n",
    "    print('\\n')"
   ]
  },
  {
   "cell_type": "markdown",
   "metadata": {},
   "source": [
    "Above, we saw that the best word embedding to use was the glove word embeddings with a f1 score of ~0.66-7. Below, we check and see if we can improve on this using ensembling methods."
   ]
  },
  {
   "cell_type": "code",
   "execution_count": 38,
   "metadata": {},
   "outputs": [
    {
     "name": "stdout",
     "output_type": "stream",
     "text": [
      "The best score for ensemble\n",
      "Threshold: 0.35\n",
      "F1 score: 0.6848904267589389\n",
      "\n",
      "\n"
     ]
    }
   ],
   "source": [
    "# take some of the results from each embedding model.\n",
    "pred_ensemble_val_y = 0.33 * pred_paragram_val_y + 0.33 * pred_glove_val_y + 0.34 * pred_wiki_val_y\n",
    "best_thresh, best_f1_score = 0, 0\n",
    "for thresh in np.arange(0.1, 0.501, 0.01):\n",
    "    curr_thresh = np.round(thresh, 2)\n",
    "    curr_f1 = f1_score(val_Y,(pred_ensemble_val_y>thresh).astype(int))    \n",
    "    if curr_f1 > best_f1_score:\n",
    "        best_thresh = curr_thresh\n",
    "        best_f1_score = curr_f1\n",
    " \n",
    "print(\"The best score for ensemble\")\n",
    "print(\"Threshold:\", best_thresh)\n",
    "print(\"F1 score:\", best_f1_score)\n",
    "print('\\n')"
   ]
  },
  {
   "cell_type": "markdown",
   "metadata": {},
   "source": [
    "Here, we used a mix of the results of all three word embeddings and found that the result is actually just a little better (~0.01 improvement) than just using one. Perhaps this is due to each of the models capturing something a little different from each other, and therefore, using ensembling here works although, it may not be worth the extra time in training the other two models because the improvement from using the glove model to ensembling methods is almost negligible."
   ]
  },
  {
   "cell_type": "markdown",
   "metadata": {},
   "source": [
    "# 5 Create Test Submission\n",
    "\n",
    "Up to this point, we've preprocessed text, turned it into a sequence, padded it, loaded embeddings, created a model, trained it, and then tested/tuned it for optimal performance.\n",
    "\n",
    "Now, all I have to do is to use this model that I've trained and create a submission for this competition.\n",
    "\n",
    "I already used the last three models to predict the values of the test set when I created the predictions on the validation set. Now, we just need to use them.\n",
    "\n",
    "As determined by the last test, we will use our best method, the ensembling model predictions."
   ]
  },
  {
   "cell_type": "code",
   "execution_count": 39,
   "metadata": {},
   "outputs": [],
   "source": [
    "pred_ensemble_test_y = 0.33 * pred_paragram_test_y + 0.33 * pred_glove_test_y + 0.34 * pred_wiki_test_y\n",
    "\n",
    "# round values to 0 / 1\n",
    "y_te = (np.array(pred_ensemble_test_y) > 0.5).astype(np.int).reshape(len(pred_ensemble_test_y),)\n",
    "\n",
    "# create dataframe of [\"qid\", \"prediction\"]\n",
    "submit_df = pd.DataFrame({\"qid\": test_df[\"qid\"], \"prediction\": y_te})\n",
    "\n",
    "# create .csv file\n",
    "submit_df.to_csv(\"submission.csv\", index=False)"
   ]
  }
 ],
 "metadata": {
  "kernelspec": {
   "display_name": "Python 3",
   "language": "python",
   "name": "python3"
  },
  "language_info": {
   "codemirror_mode": {
    "name": "ipython",
    "version": 3
   },
   "file_extension": ".py",
   "mimetype": "text/x-python",
   "name": "python",
   "nbconvert_exporter": "python",
   "pygments_lexer": "ipython3",
   "version": "3.7.0"
  }
 },
 "nbformat": 4,
 "nbformat_minor": 1
}
