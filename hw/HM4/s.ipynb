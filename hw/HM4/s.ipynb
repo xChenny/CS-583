{
 "cells": [
  {
   "cell_type": "markdown",
   "metadata": {},
   "source": [
    "# Home 4: Build a seq2seq model for machine translation.\n",
    "\n",
    "    ### Name: Andrew Chen\n",
    "\n",
    "### Task: Translate English to French"
   ]
  },
  {
   "cell_type": "markdown",
   "metadata": {},
   "source": [
    "## 0. You will do the following:\n",
    "\n",
    "1. Read and run my code.\n",
    "2. Complete the code in Section 1.1 and Section 4.2.\n",
    "\n",
    "    * Translation English to **German** is not acceptable!!! Try another language.\n",
    "    \n",
    "3. **Make improvements.** Directly modify the code in Section 3. Do at least one of the followings. By doing more, you will get up to 2 bonus scores to the total.\n",
    "\n",
    "    * Bi-LSTM instead of LSTM\n",
    "    \n",
    "    * Multi-task learning (e.g., both English to French and English to Spanish)\n",
    "    \n",
    "    * Attention\n",
    "    \n",
    "4. Evaluate the translation using the BLEU score. \n",
    "\n",
    "    * Optional. Up to 2 bonus scores to the total.\n",
    "    \n",
    "5. Convert the notebook to .HTML file. \n",
    "\n",
    "    * The HTML file must contain the code and the output after execution.\n",
    "\n",
    "6. Put the .HTML file in your own Github repo. \n",
    "\n",
    "7. Submit the link to the HTML file to Canvas\n",
    "\n",
    "    * E.g., https://github.com/wangshusen/CS583A-2019Spring/blob/master/homework/HM4/seq2seq.html\n",
    "    \n"
   ]
  },
  {
   "cell_type": "markdown",
   "metadata": {},
   "source": [
    "### Hint: \n",
    "\n",
    "To implement ```Bi-LSTM```, you will need the following code to build the encoder; the decoder won't be much different."
   ]
  },
  {
   "cell_type": "code",
   "execution_count": 2,
   "metadata": {},
   "outputs": [],
   "source": [
    "# from keras.layers import Bidirectional, Concatenate\n",
    "\n",
    "# encoder_bilstm = Bidirectional(LSTM(latent_dim, return_state=True, \n",
    "#                                   dropout=0.5, name='encoder_lstm'))\n",
    "# _, forward_h, forward_c, backward_h, backward_c = encoder_bilstm(encoder_inputs)\n",
    "\n",
    "# state_h = Concatenate()([forward_h, backward_h])\n",
    "# state_c = Concatenate()([forward_c, backward_c])"
   ]
  },
  {
   "cell_type": "markdown",
   "metadata": {},
   "source": [
    "### Hint: \n",
    "\n",
    "To implement multi-task training, you can refer to ```Section 7.1.3 Multi-output models``` of the textbook, ```Deep Learning with Python```."
   ]
  },
  {
   "cell_type": "markdown",
   "metadata": {},
   "source": [
    "## 1. Data preparation\n",
    "\n",
    "1. Download data (e.g., \"deu-eng.zip\") from http://www.manythings.org/anki/\n",
    "2. Unzip the .ZIP file.\n",
    "3. Put the .TXT file (e.g., \"deu.txt\") in the directory \"./Data/\"."
   ]
  },
  {
   "cell_type": "markdown",
   "metadata": {},
   "source": [
    "### 1.1. Load and clean text\n"
   ]
  },
  {
   "cell_type": "code",
   "execution_count": 3,
   "metadata": {},
   "outputs": [],
   "source": [
    "import re\n",
    "import string\n",
    "from unicodedata import normalize\n",
    "import numpy\n",
    "\n",
    "# load doc into memory\n",
    "def load_doc(filename):\n",
    "    # open the file as read only\n",
    "    file = open(filename, mode='rt', encoding='utf-8')\n",
    "    # read all text\n",
    "    text = file.read()\n",
    "    # close the file\n",
    "    file.close()\n",
    "    return text\n",
    "\n",
    "\n",
    "# split a loaded document into sentences\n",
    "def to_pairs(doc):\n",
    "    lines = doc.strip().split('\\n')\n",
    "    pairs = [line.split('\\t') for line in  lines]\n",
    "    return pairs\n",
    "\n",
    "def clean_data(lines):\n",
    "    cleaned = list()\n",
    "    # prepare regex for char filtering\n",
    "    re_print = re.compile('[^%s]' % re.escape(string.printable))\n",
    "    # prepare translation table for removing punctuation\n",
    "    table = str.maketrans('', '', string.punctuation)\n",
    "    for pair in lines:\n",
    "        clean_pair = list()\n",
    "        for line in pair:\n",
    "            # normalize unicode characters\n",
    "            line = normalize('NFD', line).encode('ascii', 'ignore')\n",
    "            line = line.decode('UTF-8')\n",
    "            # tokenize on white space\n",
    "            line = line.split()\n",
    "            # convert to lowercase\n",
    "            line = [word.lower() for word in line]\n",
    "            # remove punctuation from each token\n",
    "            line = [word.translate(table) for word in line]\n",
    "            # remove non-printable chars form each token\n",
    "            line = [re_print.sub('', w) for w in line]\n",
    "            # remove tokens with numbers in them\n",
    "            line = [word for word in line if word.isalpha()]\n",
    "            # store as string\n",
    "            clean_pair.append(' '.join(line))\n",
    "        cleaned.append(clean_pair)\n",
    "    return numpy.array(cleaned)"
   ]
  },
  {
   "cell_type": "markdown",
   "metadata": {},
   "source": [
    "#### Fill the following blanks:"
   ]
  },
  {
   "cell_type": "code",
   "execution_count": 4,
   "metadata": {},
   "outputs": [],
   "source": [
    "# e.g., filename = 'Data/deu.txt'\n",
    "filename = \"Data/fra.txt\"\n",
    "\n",
    "# e.g., n_train = 20000\n",
    "n_train = 160000\n",
    "rand_indices = numpy.random.permutation(n_train)\n",
    "\n",
    "train_indices = rand_indices[0:15000]\n",
    "validation_indices = rand_indices[15000:17500]\n",
    "test_indices = rand_indices[17500:20000]"
   ]
  },
  {
   "cell_type": "code",
   "execution_count": 5,
   "metadata": {},
   "outputs": [],
   "source": [
    "# load dataset\n",
    "doc = load_doc(filename)\n",
    "\n",
    "# split into Language1-Language2 pairs\n",
    "pairs = to_pairs(doc)\n",
    "\n",
    "# clean sentences\n",
    "clean_pairs = clean_data(pairs)\n",
    "train_pairs = clean_pairs[train_indices, :]\n",
    "test_pairs = clean_pairs[test_indices, :]"
   ]
  },
  {
   "cell_type": "code",
   "execution_count": 6,
   "metadata": {},
   "outputs": [
    {
     "name": "stdout",
     "output_type": "stream",
     "text": [
      "[i have faith in the future] => [jai confiance en lavenir]\n",
      "[im sure he mistook me for my sister] => [je suis sure quil ma confondue avec ma sur]\n",
      "[dont worry well find tom] => [ne tinquiete pas nous trouverons tom]\n",
      "[they smiled at each other] => [ils se sourirent lun a lautre]\n",
      "[she smiled at the sight of her mother] => [elle a souri en voyant sa mere]\n",
      "[you dont have to apologize] => [vous netes pas forcees de presenter des excuses]\n",
      "[ill wait in the gym] => [jattendrai dans le gymnase]\n",
      "[did you read what i wrote] => [avezvous lu ce que jai ecrit]\n",
      "[why is this door open] => [pourquoi cette porte est ouverte]\n",
      "[how much time do we have] => [combien de temps avonsnous]\n"
     ]
    }
   ],
   "source": [
    "for i in range(3000, 3010):\n",
    "    print('[' + train_pairs[i, 0] + '] => [' + train_pairs[i, 1] + ']')"
   ]
  },
  {
   "cell_type": "code",
   "execution_count": 7,
   "metadata": {},
   "outputs": [
    {
     "name": "stdout",
     "output_type": "stream",
     "text": [
      "Length of input_texts:  (15000,)\n",
      "Length of target_texts: (15000,)\n"
     ]
    }
   ],
   "source": [
    "input_texts = train_pairs[:, 0]\n",
    "target_texts = ['\\t' + text + '\\n' for text in train_pairs[:, 1]]\n",
    "\n",
    "print('Length of input_texts:  ' + str(input_texts.shape))\n",
    "print('Length of target_texts: ' + str(input_texts.shape))"
   ]
  },
  {
   "cell_type": "code",
   "execution_count": 8,
   "metadata": {},
   "outputs": [
    {
     "name": "stdout",
     "output_type": "stream",
     "text": [
      "max length of input  sentences: 54\n",
      "max length of target sentences: 119\n"
     ]
    }
   ],
   "source": [
    "max_encoder_seq_length = max(len(line) for line in input_texts)\n",
    "max_decoder_seq_length = max(len(line) for line in target_texts)\n",
    "\n",
    "print('max length of input  sentences: %d' % (max_encoder_seq_length))\n",
    "print('max length of target sentences: %d' % (max_decoder_seq_length))"
   ]
  },
  {
   "cell_type": "markdown",
   "metadata": {},
   "source": [
    "**Remark:** To this end, you have two lists of sentences: input_texts and target_texts"
   ]
  },
  {
   "cell_type": "markdown",
   "metadata": {},
   "source": [
    "## 2. Text processing\n",
    "\n",
    "### 2.1. Convert texts to sequences\n",
    "\n",
    "- Input: A list of $n$ sentences (with max length $t$).\n",
    "- It is represented by a $n\\times t$ matrix after the tokenization and zero-padding."
   ]
  },
  {
   "cell_type": "code",
   "execution_count": 9,
   "metadata": {},
   "outputs": [
    {
     "name": "stdout",
     "output_type": "stream",
     "text": [
      "shape of encoder_input_seq: (15000, 54)\n",
      "shape of input_token_index: 27\n",
      "shape of decoder_input_seq: (15000, 119)\n",
      "shape of target_token_index: 29\n"
     ]
    }
   ],
   "source": [
    "from keras.preprocessing.text import Tokenizer\n",
    "from keras.preprocessing.sequence import pad_sequences\n",
    "\n",
    "# encode and pad sequences\n",
    "def text2sequences(max_len, lines):\n",
    "    tokenizer = Tokenizer(char_level=True, filters='')\n",
    "    tokenizer.fit_on_texts(lines)\n",
    "    seqs = tokenizer.texts_to_sequences(lines)\n",
    "    seqs_pad = pad_sequences(seqs, maxlen=max_len, padding='post')\n",
    "    return seqs_pad, tokenizer.word_index\n",
    "\n",
    "\n",
    "encoder_input_seq, input_token_index = text2sequences(max_encoder_seq_length, \n",
    "                                                      input_texts)\n",
    "decoder_input_seq, target_token_index = text2sequences(max_decoder_seq_length, \n",
    "                                                       target_texts)\n",
    "\n",
    "print('shape of encoder_input_seq: ' + str(encoder_input_seq.shape))\n",
    "print('shape of input_token_index: ' + str(len(input_token_index)))\n",
    "print('shape of decoder_input_seq: ' + str(decoder_input_seq.shape))\n",
    "print('shape of target_token_index: ' + str(len(target_token_index)))"
   ]
  },
  {
   "cell_type": "code",
   "execution_count": 10,
   "metadata": {},
   "outputs": [
    {
     "name": "stdout",
     "output_type": "stream",
     "text": [
      "num_encoder_tokens: 28\n",
      "num_decoder_tokens: 30\n"
     ]
    }
   ],
   "source": [
    "num_encoder_tokens = len(input_token_index) + 1\n",
    "num_decoder_tokens = len(target_token_index) + 1\n",
    "\n",
    "print('num_encoder_tokens: ' + str(num_encoder_tokens))\n",
    "print('num_decoder_tokens: ' + str(num_decoder_tokens))"
   ]
  },
  {
   "cell_type": "markdown",
   "metadata": {},
   "source": [
    "**Remark:** To this end, the input language and target language texts are converted to 2 matrices. \n",
    "\n",
    "- Their number of rows are both n_train.\n",
    "- Their number of columns are respective max_encoder_seq_length and max_decoder_seq_length."
   ]
  },
  {
   "cell_type": "markdown",
   "metadata": {},
   "source": [
    "The followings print a sentence and its representation as a sequence."
   ]
  },
  {
   "cell_type": "code",
   "execution_count": 11,
   "metadata": {},
   "outputs": [
    {
     "data": {
      "text/plain": [
       "'\\tje ne suis pas reste longtemps en relation avec eux\\n'"
      ]
     },
     "execution_count": 11,
     "metadata": {},
     "output_type": "execute_result"
    }
   ],
   "source": [
    "target_texts[100]"
   ]
  },
  {
   "cell_type": "code",
   "execution_count": 12,
   "metadata": {},
   "outputs": [
    {
     "data": {
      "text/plain": [
       "array([12, 19,  2,  1,  8,  2,  1,  3,  7,  5,  3,  1, 14,  4,  3,  1,  9,\n",
       "        2,  3,  6,  2,  1, 11, 10,  8, 24,  6,  2, 15, 14,  3,  1,  2,  8,\n",
       "        1,  9,  2, 11,  4,  6,  5, 10,  8,  1,  4, 18,  2, 16,  1,  2,  7,\n",
       "       26, 13,  0,  0,  0,  0,  0,  0,  0,  0,  0,  0,  0,  0,  0,  0,  0,\n",
       "        0,  0,  0,  0,  0,  0,  0,  0,  0,  0,  0,  0,  0,  0,  0,  0,  0,\n",
       "        0,  0,  0,  0,  0,  0,  0,  0,  0,  0,  0,  0,  0,  0,  0,  0,  0,\n",
       "        0,  0,  0,  0,  0,  0,  0,  0,  0,  0,  0,  0,  0,  0,  0,  0,  0],\n",
       "      dtype=int32)"
      ]
     },
     "execution_count": 12,
     "metadata": {},
     "output_type": "execute_result"
    }
   ],
   "source": [
    "decoder_input_seq[100, :]"
   ]
  },
  {
   "cell_type": "markdown",
   "metadata": {},
   "source": [
    "## 2.2. One-hot encode\n",
    "\n",
    "- Input: A list of $n$ sentences (with max length $t$).\n",
    "- It is represented by a $n\\times t$ matrix after the tokenization and zero-padding.\n",
    "- It is represented by a $n\\times t \\times v$ tensor ($t$ is the number of unique chars) after the one-hot encoding."
   ]
  },
  {
   "cell_type": "code",
   "execution_count": 13,
   "metadata": {},
   "outputs": [
    {
     "name": "stdout",
     "output_type": "stream",
     "text": [
      "(15000, 54, 28)\n",
      "(15000, 119, 30)\n"
     ]
    }
   ],
   "source": [
    "from keras.utils import to_categorical\n",
    "\n",
    "# one hot encode target sequence\n",
    "def onehot_encode(sequences, max_len, vocab_size):\n",
    "    n = len(sequences)\n",
    "    data = numpy.zeros((n, max_len, vocab_size))\n",
    "    for i in range(n):\n",
    "        data[i, :, :] = to_categorical(sequences[i], num_classes=vocab_size)\n",
    "    return data\n",
    "\n",
    "encoder_input_data = onehot_encode(encoder_input_seq, max_encoder_seq_length, num_encoder_tokens)\n",
    "decoder_input_data = onehot_encode(decoder_input_seq, max_decoder_seq_length, num_decoder_tokens)\n",
    "\n",
    "decoder_target_seq = numpy.zeros(decoder_input_seq.shape)\n",
    "decoder_target_seq[:, 0:-1] = decoder_input_seq[:, 1:]\n",
    "decoder_target_data = onehot_encode(decoder_target_seq, \n",
    "                                    max_decoder_seq_length, \n",
    "                                    num_decoder_tokens)\n",
    "\n",
    "print(encoder_input_data.shape)\n",
    "print(decoder_input_data.shape)"
   ]
  },
  {
   "cell_type": "markdown",
   "metadata": {},
   "source": [
    "## 3. Build the networks (for training)\n",
    "\n",
    "- Build encoder, decoder, and connect the two modules to get \"model\". \n",
    "\n",
    "- Fit the model on the bilingual data to train the parameters in the encoder and decoder."
   ]
  },
  {
   "cell_type": "markdown",
   "metadata": {},
   "source": [
    "### 3.1. Encoder network\n",
    "\n",
    "- Input:  one-hot encode of the input language\n",
    "\n",
    "- Return: \n",
    "\n",
    "    -- output (all the hidden states   $h_1, \\cdots , h_t$) are always discarded\n",
    "    \n",
    "    -- the final hidden state  $h_t$\n",
    "    \n",
    "    -- the final conveyor belt $c_t$"
   ]
  },
  {
   "cell_type": "code",
   "execution_count": 14,
   "metadata": {},
   "outputs": [
    {
     "name": "stdout",
     "output_type": "stream",
     "text": [
      "WARNING:tensorflow:From /Users/andrewchen/.pyenv/versions/3.7.0/lib/python3.7/site-packages/tensorflow/python/framework/op_def_library.py:263: colocate_with (from tensorflow.python.framework.ops) is deprecated and will be removed in a future version.\n",
      "Instructions for updating:\n",
      "Colocations handled automatically by placer.\n",
      "WARNING:tensorflow:From /Users/andrewchen/.pyenv/versions/3.7.0/lib/python3.7/site-packages/keras/backend/tensorflow_backend.py:3445: calling dropout (from tensorflow.python.ops.nn_ops) with keep_prob is deprecated and will be removed in a future version.\n",
      "Instructions for updating:\n",
      "Please use `rate` instead of `keep_prob`. Rate should be set to `rate = 1 - keep_prob`.\n"
     ]
    }
   ],
   "source": [
    "from keras.layers import Input, LSTM\n",
    "from keras.models import Model\n",
    "\n",
    "latent_dim = 256\n",
    "\n",
    "# inputs of the encoder network\n",
    "encoder_inputs = Input(shape=(None, num_encoder_tokens), \n",
    "                       name='encoder_inputs')\n",
    "\n",
    "# set the LSTM layer\n",
    "encoder_lstm = LSTM(latent_dim, return_state=True, \n",
    "                    dropout=0.5, name='encoder_lstm')\n",
    "_, state_h, state_c = encoder_lstm(encoder_inputs)\n",
    "\n",
    "# build the encoder network model\n",
    "encoder_model = Model(inputs=encoder_inputs, \n",
    "                      outputs=[state_h, state_c],\n",
    "                      name='encoder')"
   ]
  },
  {
   "cell_type": "markdown",
   "metadata": {},
   "source": [
    "Print a summary and save the encoder network structure to \"./encoder.pdf\""
   ]
  },
  {
   "cell_type": "code",
   "execution_count": 15,
   "metadata": {},
   "outputs": [
    {
     "name": "stdout",
     "output_type": "stream",
     "text": [
      "_________________________________________________________________\n",
      "Layer (type)                 Output Shape              Param #   \n",
      "=================================================================\n",
      "encoder_inputs (InputLayer)  (None, None, 28)          0         \n",
      "_________________________________________________________________\n",
      "encoder_lstm (LSTM)          [(None, 256), (None, 256) 291840    \n",
      "=================================================================\n",
      "Total params: 291,840\n",
      "Trainable params: 291,840\n",
      "Non-trainable params: 0\n",
      "_________________________________________________________________\n"
     ]
    }
   ],
   "source": [
    "# convert decoder model architecture to pdf to show\n",
    "\n",
    "from IPython.display import SVG\n",
    "from keras.utils.vis_utils import model_to_dot, plot_model\n",
    "\n",
    "SVG(model_to_dot(encoder_model, show_shapes=False).create(prog='dot', format='svg'))\n",
    "\n",
    "plot_model(\n",
    "    model=encoder_model, show_shapes=False,\n",
    "    to_file='encoder.pdf'\n",
    ")\n",
    "\n",
    "encoder_model.summary()"
   ]
  },
  {
   "cell_type": "markdown",
   "metadata": {},
   "source": [
    "### 3.2. Decoder network\n",
    "\n",
    "- Inputs:  \n",
    "\n",
    "    -- one-hot encode of the target language\n",
    "    \n",
    "    -- The initial hidden state $h_t$ \n",
    "    \n",
    "    -- The initial conveyor belt $c_t$ \n",
    "\n",
    "- Return: \n",
    "\n",
    "    -- output (all the hidden states) $h_1, \\cdots , h_t$\n",
    "\n",
    "    -- the final hidden state  $h_t$ (discarded in the training and used in the prediction)\n",
    "    \n",
    "    -- the final conveyor belt $c_t$ (discarded in the training and used in the prediction)"
   ]
  },
  {
   "cell_type": "code",
   "execution_count": 16,
   "metadata": {},
   "outputs": [],
   "source": [
    "from keras.layers import Input, LSTM, Dense\n",
    "from keras.models import Model\n",
    "\n",
    "# inputs of the decoder network\n",
    "decoder_input_h = Input(shape=(latent_dim,), name='decoder_input_h')\n",
    "decoder_input_c = Input(shape=(latent_dim,), name='decoder_input_c')\n",
    "decoder_input_x = Input(shape=(None, num_decoder_tokens), name='decoder_input_x')\n",
    "\n",
    "# set the LSTM layer\n",
    "decoder_lstm = LSTM(latent_dim, return_sequences=True, \n",
    "                    return_state=True, dropout=0.5, name='decoder_lstm')\n",
    "decoder_lstm_outputs, state_h, state_c = decoder_lstm(decoder_input_x, \n",
    "                                                      initial_state=[decoder_input_h, decoder_input_c])\n",
    "\n",
    "# set the dense layer\n",
    "decoder_dense = Dense(num_decoder_tokens, activation='softmax', name='decoder_dense')\n",
    "decoder_outputs = decoder_dense(decoder_lstm_outputs)\n",
    "\n",
    "# build the decoder network model\n",
    "decoder_model = Model(inputs=[decoder_input_x, decoder_input_h, decoder_input_c],\n",
    "                      outputs=[decoder_outputs, state_h, state_c],\n",
    "                      name='decoder')"
   ]
  },
  {
   "cell_type": "markdown",
   "metadata": {},
   "source": [
    "Print a summary and save the encoder network structure to \"./decoder.pdf\""
   ]
  },
  {
   "cell_type": "code",
   "execution_count": 17,
   "metadata": {},
   "outputs": [
    {
     "name": "stdout",
     "output_type": "stream",
     "text": [
      "__________________________________________________________________________________________________\n",
      "Layer (type)                    Output Shape         Param #     Connected to                     \n",
      "==================================================================================================\n",
      "decoder_input_x (InputLayer)    (None, None, 30)     0                                            \n",
      "__________________________________________________________________________________________________\n",
      "decoder_input_h (InputLayer)    (None, 256)          0                                            \n",
      "__________________________________________________________________________________________________\n",
      "decoder_input_c (InputLayer)    (None, 256)          0                                            \n",
      "__________________________________________________________________________________________________\n",
      "decoder_lstm (LSTM)             [(None, None, 256),  293888      decoder_input_x[0][0]            \n",
      "                                                                 decoder_input_h[0][0]            \n",
      "                                                                 decoder_input_c[0][0]            \n",
      "__________________________________________________________________________________________________\n",
      "decoder_dense (Dense)           (None, None, 30)     7710        decoder_lstm[0][0]               \n",
      "==================================================================================================\n",
      "Total params: 301,598\n",
      "Trainable params: 301,598\n",
      "Non-trainable params: 0\n",
      "__________________________________________________________________________________________________\n"
     ]
    }
   ],
   "source": [
    "# convert decoder model architecture to pdf to show\n",
    "\n",
    "from IPython.display import SVG\n",
    "from keras.utils.vis_utils import model_to_dot, plot_model\n",
    "\n",
    "SVG(model_to_dot(decoder_model, show_shapes=False).create(prog='dot', format='svg'))\n",
    "\n",
    "plot_model(\n",
    "    model=decoder_model, show_shapes=False,\n",
    "    to_file='decoder.pdf'\n",
    ")\n",
    "\n",
    "decoder_model.summary()"
   ]
  },
  {
   "cell_type": "markdown",
   "metadata": {},
   "source": [
    "### 3.3. Connect the encoder and decoder"
   ]
  },
  {
   "cell_type": "code",
   "execution_count": 18,
   "metadata": {},
   "outputs": [],
   "source": [
    "# input layers\n",
    "encoder_input_x = Input(shape=(None, num_encoder_tokens), name='encoder_input_x')\n",
    "decoder_input_x = Input(shape=(None, num_decoder_tokens), name='decoder_input_x')\n",
    "\n",
    "# connect encoder to decoder\n",
    "encoder_final_states = encoder_model([encoder_input_x])\n",
    "decoder_lstm_output, _, _ = decoder_lstm(decoder_input_x, initial_state=encoder_final_states)\n",
    "decoder_pred = decoder_dense(decoder_lstm_output)\n",
    "\n",
    "model = Model(inputs=[encoder_input_x, decoder_input_x], \n",
    "              outputs=decoder_pred, \n",
    "              name='model_training')"
   ]
  },
  {
   "cell_type": "code",
   "execution_count": 19,
   "metadata": {},
   "outputs": [
    {
     "name": "stdout",
     "output_type": "stream",
     "text": [
      "Tensor(\"decoder_lstm/while/Exit_2:0\", shape=(?, 256), dtype=float32)\n",
      "Tensor(\"decoder_input_h:0\", shape=(?, 256), dtype=float32)\n"
     ]
    }
   ],
   "source": [
    "print(state_h)\n",
    "print(decoder_input_h)"
   ]
  },
  {
   "cell_type": "code",
   "execution_count": 20,
   "metadata": {},
   "outputs": [
    {
     "name": "stdout",
     "output_type": "stream",
     "text": [
      "__________________________________________________________________________________________________\n",
      "Layer (type)                    Output Shape         Param #     Connected to                     \n",
      "==================================================================================================\n",
      "encoder_input_x (InputLayer)    (None, None, 28)     0                                            \n",
      "__________________________________________________________________________________________________\n",
      "decoder_input_x (InputLayer)    (None, None, 30)     0                                            \n",
      "__________________________________________________________________________________________________\n",
      "encoder (Model)                 [(None, 256), (None, 291840      encoder_input_x[0][0]            \n",
      "__________________________________________________________________________________________________\n",
      "decoder_lstm (LSTM)             [(None, None, 256),  293888      decoder_input_x[0][0]            \n",
      "                                                                 encoder[1][0]                    \n",
      "                                                                 encoder[1][1]                    \n",
      "__________________________________________________________________________________________________\n",
      "decoder_dense (Dense)           (None, None, 30)     7710        decoder_lstm[1][0]               \n",
      "==================================================================================================\n",
      "Total params: 593,438\n",
      "Trainable params: 593,438\n",
      "Non-trainable params: 0\n",
      "__________________________________________________________________________________________________\n"
     ]
    }
   ],
   "source": [
    "# convert seq2seq model architecture to pdf to show\n",
    "\n",
    "from IPython.display import SVG\n",
    "from keras.utils.vis_utils import model_to_dot, plot_model\n",
    "\n",
    "SVG(model_to_dot(model, show_shapes=False).create(prog='dot', format='svg'))\n",
    "\n",
    "plot_model(\n",
    "    model=model, show_shapes=False,\n",
    "    to_file='model_training.pdf'\n",
    ")\n",
    "\n",
    "model.summary()"
   ]
  },
  {
   "cell_type": "markdown",
   "metadata": {},
   "source": [
    "### 3.5. Fit the model on the bilingual dataset\n",
    "\n",
    "- encoder_input_data: one-hot encode of the input language\n",
    "\n",
    "- decoder_input_data: one-hot encode of the input language\n",
    "\n",
    "- decoder_target_data: labels (left shift of decoder_input_data)\n",
    "\n",
    "- tune the hyper-parameters\n",
    "\n",
    "- stop when the validation loss stop decreasing."
   ]
  },
  {
   "cell_type": "code",
   "execution_count": 21,
   "metadata": {},
   "outputs": [
    {
     "name": "stdout",
     "output_type": "stream",
     "text": [
      "shape of encoder_input_data(15000, 54, 28)\n",
      "shape of decoder_input_data(15000, 119, 30)\n",
      "shape of decoder_target_data(15000, 119, 30)\n"
     ]
    }
   ],
   "source": [
    "print('shape of encoder_input_data' + str(encoder_input_data.shape))\n",
    "print('shape of decoder_input_data' + str(decoder_input_data.shape))\n",
    "print('shape of decoder_target_data' + str(decoder_target_data.shape))"
   ]
  },
  {
   "cell_type": "code",
   "execution_count": 22,
   "metadata": {},
   "outputs": [
    {
     "name": "stdout",
     "output_type": "stream",
     "text": [
      "Loading trained model...\n",
      "WARNING:tensorflow:From /Users/andrewchen/.pyenv/versions/3.7.0/lib/python3.7/site-packages/tensorflow/python/ops/math_ops.py:3066: to_int32 (from tensorflow.python.ops.math_ops) is deprecated and will be removed in a future version.\n",
      "Instructions for updating:\n",
      "Use tf.cast instead.\n",
      "WARNING:tensorflow:From /Users/andrewchen/.pyenv/versions/3.7.0/lib/python3.7/site-packages/tensorflow/python/ops/math_grad.py:102: div (from tensorflow.python.ops.math_ops) is deprecated and will be removed in a future version.\n",
      "Instructions for updating:\n",
      "Deprecated in favor of operator or tf.math.divide.\n",
      "Loaded!\n"
     ]
    }
   ],
   "source": [
    "from os.path import isfile\n",
    "from keras.models import load_model\n",
    "\n",
    "# Change to True if you wish to train\n",
    "retrain = False\n",
    "\n",
    "if not retrain and isfile(\"seq2seq.h5\"):\n",
    "    print(\"Loading trained model...\")\n",
    "    model = load_model(\"seq2seq.h5\")\n",
    "    print(\"Loaded!\")\n",
    "else:\n",
    "    model.compile(optimizer='rmsprop', loss='categorical_crossentropy')\n",
    "\n",
    "    model.fit([encoder_input_data, decoder_input_data],  # training data\n",
    "              decoder_target_data,                       # labels (left shift of the target sequences)\n",
    "              batch_size=64, epochs=50, validation_split=0.2)\n",
    "\n",
    "    model.save('seq2seq.h5')"
   ]
  },
  {
   "cell_type": "markdown",
   "metadata": {},
   "source": [
    "## 4. Make predictions\n",
    "\n",
    "\n",
    "### 4.1. Translate English to XXX\n",
    "\n",
    "1. Encoder read a sentence (source language) and output its final states, $h_t$ and $c_t$.\n",
    "2. Take the [star] sign \"\\t\" and the final state $h_t$ and $c_t$ as input and run the decoder.\n",
    "3. Get the new states and predicted probability distribution.\n",
    "4. sample a char from the predicted probability distribution\n",
    "5. take the sampled char and the new states as input and repeat the process (stop if reach the [stop] sign \"\\n\")."
   ]
  },
  {
   "cell_type": "code",
   "execution_count": 23,
   "metadata": {},
   "outputs": [],
   "source": [
    "# Reverse-lookup token index to decode sequences back to something readable.\n",
    "reverse_input_char_index = dict((i, char) for char, i in input_token_index.items())\n",
    "reverse_target_char_index = dict((i, char) for char, i in target_token_index.items())"
   ]
  },
  {
   "cell_type": "code",
   "execution_count": 24,
   "metadata": {},
   "outputs": [],
   "source": [
    "def decode_sequence(input_seq):\n",
    "    states_value = encoder_model.predict(input_seq)\n",
    "\n",
    "    target_seq = numpy.zeros((1, 1, num_decoder_tokens))\n",
    "    target_seq[0, 0, target_token_index['\\t']] = 1.\n",
    "\n",
    "    stop_condition = False\n",
    "    decoded_sentence = ''\n",
    "    while not stop_condition:\n",
    "        output_tokens, h, c = decoder_model.predict([target_seq] + states_value)\n",
    "\n",
    "        # this line of code is greedy selection\n",
    "        # try to use multinomial sampling instead (with temperature)\n",
    "        sampled_token_index = numpy.argmax(output_tokens[0, -1, :])\n",
    "        \n",
    "        sampled_char = reverse_target_char_index[sampled_token_index]\n",
    "        decoded_sentence += sampled_char\n",
    "\n",
    "        if (sampled_char == '\\n' or\n",
    "           len(decoded_sentence) > max_decoder_seq_length):\n",
    "            stop_condition = True\n",
    "\n",
    "        target_seq = numpy.zeros((1, 1, num_decoder_tokens))\n",
    "        target_seq[0, 0, sampled_token_index] = 1.\n",
    "\n",
    "        states_value = [h, c]\n",
    "\n",
    "    return decoded_sentence\n"
   ]
  },
  {
   "cell_type": "code",
   "execution_count": 25,
   "metadata": {},
   "outputs": [
    {
     "name": "stdout",
     "output_type": "stream",
     "text": [
      "-\n",
      "English:        i think we should break up\n",
      "French (true):  je pense que nous devrions rompre\n",
      "French (pred):  oolnnnnnnnnnn  c c c c cgggbgd\tlnnnnnnnnnnn  c c c c cgggbgd\tlnnnnnnnnnnn  c c c c cgggbgd\tlnnnnnnnnnnn  c c c c cgggbg\n",
      "-\n",
      "English:        tom asked for a raise\n",
      "French (true):  tom a demande une augmentation\n",
      "French (pred):  oolnnnnnnnnnn  c c c c cgggbgd\tlnnnnnnnnnnn  c c c c cgggbgd\tlnnnnnnnnnnn  c c c c cgggbgd\tlnnnnnnnnnnn  c c c c cgggbg\n",
      "-\n",
      "English:        he had no money\n",
      "French (true):  il navait pas dargent\n",
      "French (pred):  oolnnnnnnnnnn  c c c c cgggbgd\tlnnnnnnnnnnn  c c c c cgggbgd\tlnnnnnnnnnnn  c c c c cgggbgd\tlnnnnnnnnnnn  c c c c cgggbg\n",
      "-\n",
      "English:        that word describes it perfectly\n",
      "French (true):  ce mot le decrit parfaitement\n",
      "French (pred):  oolnnnnnnnnnn  c c c c cgggbgd\tlnnnnnnnnnnn  c c c c cgggbgd\tlnnnnnnnnnnn  c c c c cgggbgd\tlnnnnnnnnnnn  c c c c cgggbg\n",
      "-\n",
      "English:        tom promised to help me\n",
      "French (true):  tom a promis de maider\n",
      "French (pred):  oolnnnnnnnnnn  c c c c cgggbgd\tlnnnnnnnnnnn  c c c c cgggbgd\tlnnnnnnnnnnn  c c c c cgggbgd\tlnnnnnnnnnnn  c c c c cgggbg\n",
      "-\n",
      "English:        i want you to have a copy of this\n",
      "French (true):  je veux que vous ayez une copie de ceci\n",
      "French (pred):  oolnnnnnnnnnn  c c c c cgggbgd\tlnnnnnnnnnnn  c c c c cgggbgd\tlnnnnnnnnnnn  c c c c cgggbgd\tlnnnnnnnnnnn  c c c c cgggbg\n",
      "-\n",
      "English:        we were partners\n",
      "French (true):  nous etions partenaires\n",
      "French (pred):  oolnnnnnnnnnn  c c c c cgggbgd\tlnnnnnnnnnnn  c c c c cgggbgd\tlnnnnnnnnnnn  c c c c cgggbgd\tlnnnnnnnnnnn  c c c c cgggbg\n",
      "-\n",
      "English:        let him go\n",
      "French (true):  laissele partir\n",
      "French (pred):  oolnnnnnnnnnn  c c c c cgggbgd\tlnnnnnnnnnnn  c c c c cgggbgd\tlnnnnnnnnnnn  c c c c cgggbgd\tlnnnnnnnnnnn  c c c c cgggbg\n",
      "-\n",
      "English:        i look forward to hearing from you soon\n",
      "French (true):  jespere avoir bientot de vos nouvelles\n",
      "French (pred):  oolnnnnnnnnnn  c c c c cgggbgd\tlnnnnnnnnnnn  c c c c cgggbgd\tlnnnnnnnnnnn  c c c c cgggbgd\tlnnnnnnnnnnn  c c c c cgggbg\n",
      "-\n",
      "English:        you are a good cook arent you\n",
      "French (true):  vous etes bonne cuisiniere non\n",
      "French (pred):  oolnnnnnnnnnn  c c c c cgggbgd\tlnnnnnnnnnnn  c c c c cgggbgd\tlnnnnnnnnnnn  c c c c cgggbgd\tlnnnnnnnnnnn  c c c c cgggbg\n",
      "-\n",
      "English:        i hope youre happy\n",
      "French (true):  jespere que vous etes heureux\n",
      "French (pred):  oolnnnnnnnnnn  c c c c cgggbgd\tlnnnnnnnnnnn  c c c c cgggbgd\tlnnnnnnnnnnn  c c c c cgggbgd\tlnnnnnnnnnnn  c c c c cgggbg\n",
      "-\n",
      "English:        he distanced himself from politics\n",
      "French (true):  il a pris ses distances avec la politique\n",
      "French (pred):  oolnnnnnnnnnn  c c c c cgggbgd\tlnnnnnnnnnnn  c c c c cgggbgd\tlnnnnnnnnnnn  c c c c cgggbgd\tlnnnnnnnnnnn  c c c c cgggbg\n",
      "-\n",
      "English:        once she arrives we can start\n",
      "French (true):  une fois quelle est arrivee nous pouvons commencer\n",
      "French (pred):  oolnnnnnnnnnn  c c c c cgggbgd\tlnnnnnnnnnnn  c c c c cgggbgd\tlnnnnnnnnnnn  c c c c cgggbgd\tlnnnnnnnnnnn  c c c c cgggbg\n",
      "-\n",
      "English:        i want you to run to the store for me\n",
      "French (true):  je veux que tu coures au magasin pour moi\n",
      "French (pred):  oolnnnnnnnnnn  c c c c cgggbgd\tlnnnnnnnnnnn  c c c c cgggbgd\tlnnnnnnnnnnn  c c c c cgggbgd\tlnnnnnnnnnnn  c c c c cgggbg\n",
      "-\n",
      "English:        tom is hiding in the attic\n",
      "French (true):  tom se cache dans le grenier\n",
      "French (pred):  oolnnnnnnnnnn  c c c c cgggbgd\tlnnnnnnnnnnn  c c c c cgggbgd\tlnnnnnnnnnnn  c c c c cgggbgd\tlnnnnnnnnnnn  c c c c cgggbg\n",
      "-\n",
      "English:        she likes chinese food\n",
      "French (true):  elle aime la cuisine chinoise\n",
      "French (pred):  oolnnnnnnnnnn  c c c c cgggbgd\tlnnnnnnnnnnn  c c c c cgggbgd\tlnnnnnnnnnnn  c c c c cgggbgd\tlnnnnnnnnnnn  c c c c cgggbg\n",
      "-\n",
      "English:        if you rest you will be back on your feet again soon\n",
      "French (true):  si vous vous reposez vous serez bientot de nouveau sur pieds\n",
      "French (pred):  olnnnnnnnnnnn  c c c c cgggbgd\tlnnnnnnnnnnn  c c c c cgggbgd\tlnnnnnnnnnnn  c c c c cgggbgd\tlnnnnnnnnnnn  c c c c cgggbg\n",
      "-\n",
      "English:        the sky is getting brighter\n",
      "French (true):  le ciel seclaircit\n",
      "French (pred):  oolnnnnnnnnnn  c c c c cgggbgd\tlnnnnnnnnnnn  c c c c cgggbgd\tlnnnnnnnnnnn  c c c c cgggbgd\tlnnnnnnnnnnn  c c c c cgggbg\n",
      "-\n",
      "English:        i have to paint it\n",
      "French (true):  je dois le peindre\n",
      "French (pred):  oolnnnnnnnnnn  c c c c cgggbgd\tlnnnnnnnnnnn  c c c c cgggbgd\tlnnnnnnnnnnn  c c c c cgggbgd\tlnnnnnnnnnnn  c c c c cgggbg\n",
      "-\n",
      "English:        thats kind of vague\n",
      "French (true):  cest plutot vague\n",
      "French (pred):  oolnnnnnnnnnn  c c c c cgggbgd\tlnnnnnnnnnnn  c c c c cgggbgd\tlnnnnnnnnnnn  c c c c cgggbgd\tlnnnnnnnnnnn  c c c c cgggbg\n"
     ]
    }
   ],
   "source": [
    "for seq_index in range(2100, 2120):\n",
    "    # Take one sequence (part of the training set)\n",
    "    # for trying out decoding.\n",
    "    input_seq = encoder_input_data[seq_index: seq_index + 1]\n",
    "    decoded_sentence = decode_sequence(input_seq)\n",
    "    print('-')\n",
    "    print('English:       ', input_texts[seq_index])\n",
    "    print('French (true): ', target_texts[seq_index][1:-1])\n",
    "    print('French (pred): ', decoded_sentence[0:-1])\n"
   ]
  },
  {
   "cell_type": "markdown",
   "metadata": {},
   "source": [
    "### 4.2. Translate an English sentence to the target language\n",
    "\n",
    "1. Tokenization\n",
    "2. One-hot encode\n",
    "3. Translate"
   ]
  },
  {
   "cell_type": "code",
   "execution_count": 26,
   "metadata": {},
   "outputs": [
    {
     "name": "stdout",
     "output_type": "stream",
     "text": [
      "source sentence is: why is that\n",
      "translated sentence is: oolnnnnnnnnnn  c c c c cgggbgd\tlnnnnnnnnnnn  c c c c cgggbgd\tlnnnnnnnnnnn  c c c c cgggbgd\tlnnnnnnnnnnn  c c c c cgggbgd\n"
     ]
    }
   ],
   "source": [
    "input_sentence = 'why is that'\n",
    "\n",
    "input_sequences, _ = text2sequences(len(input_sentence), [input_sentence])\n",
    "\n",
    "translated_sentence = decode_sequence(input_seq)\n",
    "\n",
    "print('source sentence is: ' + input_sentence)\n",
    "print('translated sentence is: ' + translated_sentence)"
   ]
  },
  {
   "cell_type": "markdown",
   "metadata": {},
   "source": [
    "## 5. Evaluate the translation using BLEU score\n",
    "\n",
    "Reference: \n",
    "- https://machinelearningmastery.com/calculate-bleu-score-for-text-python/\n",
    "- https://en.wikipedia.org/wiki/BLEU\n",
    "\n",
    "\n",
    "**Hint:** Randomly partition the dataset to training, validation, and test. Evaluate the BLEU score using the test set.\n"
   ]
  },
  {
   "cell_type": "code",
   "execution_count": 27,
   "metadata": {},
   "outputs": [
    {
     "name": "stdout",
     "output_type": "stream",
     "text": [
      "['mary isnt like other girls' 'mary nest pas comme les autres filles']\n",
      "-\n",
      "source sentence is: mary isnt like other girls\n",
      "translated sentence is: oolnnnnnnnnnn  c c c c cgggbgd\tlnnnnnnnnnnn  c c c c cgggbgd\tlnnnnnnnnnnn  c c c c cgggbgd\tlnnnnnnnnnnn  c c c c cgggbgd\n",
      "true traslation: mary nest pas comme les autres filles\n",
      "score: 0\n",
      "-\n",
      "source sentence is: this seems too good to be true\n",
      "translated sentence is: oolnnnnnnnnnn  c c c c cgggbgd\tlnnnnnnnnnnn  c c c c cgggbgd\tlnnnnnnnnnnn  c c c c cgggbgd\tlnnnnnnnnnnn  c c c c cgggbgd\n",
      "true traslation: ca semble trop beau pour etre vrai\n",
      "score: 0\n",
      "-\n",
      "source sentence is: we have an orange tree\n",
      "translated sentence is: oolnnnnnnnnnn  c c c c cgggbgd\tlnnnnnnnnnnn  c c c c cgggbgd\tlnnnnnnnnnnn  c c c c cgggbgd\tlnnnnnnnnnnn  c c c c cgggbgd\n",
      "true traslation: nous avons un oranger\n",
      "score: 0\n",
      "-\n",
      "source sentence is: i ate a hamburger\n",
      "translated sentence is: oolnnnnnnnnnn  c c c c cgggbgd\tlnnnnnnnnnnn  c c c c cgggbgd\tlnnnnnnnnnnn  c c c c cgggbgd\tlnnnnnnnnnnn  c c c c cgggbgd\n",
      "true traslation: jai mange un hamburger\n",
      "score: 0\n",
      "-\n",
      "source sentence is: im sorry im such a big disappointment to you\n",
      "translated sentence is: oolnnnnnnnnnn  c c c c cgggbgd\tlnnnnnnnnnnn  c c c c cgggbgd\tlnnnnnnnnnnn  c c c c cgggbgd\tlnnnnnnnnnnn  c c c c cgggbgd\n",
      "true traslation: je suis desole detre une telle deception pour toi\n",
      "score: 0\n",
      "-\n",
      "source sentence is: the rain lasted three days\n",
      "translated sentence is: oolnnnnnnnnnn  c c c c cgggbgd\tlnnnnnnnnnnn  c c c c cgggbgd\tlnnnnnnnnnnn  c c c c cgggbgd\tlnnnnnnnnnnn  c c c c cgggbgd\n",
      "true traslation: la pluie dura trois jours\n",
      "score: 0\n",
      "-\n",
      "source sentence is: unfortunately my father isnt at home\n",
      "translated sentence is: oolnnnnnnnnnn  c c c c cgggbgd\tlnnnnnnnnnnn  c c c c cgggbgd\tlnnnnnnnnnnn  c c c c cgggbgd\tlnnnnnnnnnnn  c c c c cgggbgd\n",
      "true traslation: malheureusement mon pere nest pas chez lui\n",
      "score: 0\n",
      "-\n",
      "source sentence is: he found out the secret\n",
      "translated sentence is: oolnnnnnnnnnn  c c c c cgggbgd\tlnnnnnnnnnnn  c c c c cgggbgd\tlnnnnnnnnnnn  c c c c cgggbgd\tlnnnnnnnnnnn  c c c c cgggbgd\n",
      "true traslation: il decouvrit le secret\n",
      "score: 0\n",
      "-\n",
      "source sentence is: he left the door unlocked\n",
      "translated sentence is: oolnnnnnnnnnn  c c c c cgggbgd\tlnnnnnnnnnnn  c c c c cgggbgd\tlnnnnnnnnnnn  c c c c cgggbgd\tlnnnnnnnnnnn  c c c c cgggbgd\n",
      "true traslation: il ne verrouilla pas la porte\n",
      "score: 0\n",
      "-\n",
      "source sentence is: thank you for stopping by\n",
      "translated sentence is: oolnnnnnnnnnn  c c c c cgggbgd\tlnnnnnnnnnnn  c c c c cgggbgd\tlnnnnnnnnnnn  c c c c cgggbgd\tlnnnnnnnnnnn  c c c c cgggbgd\n",
      "true traslation: merci de vous etre arrete en chemin\n",
      "score: 0\n",
      "\n",
      "AVERAGE SCORE: 0.0\n"
     ]
    }
   ],
   "source": [
    "from nltk.translate.bleu_score import sentence_bleu\n",
    "\n",
    "# reference from first BLEU link\n",
    "\n",
    "# reference = [['the', 'cat', 'is', 'on', 'the', 'mat']]\n",
    "# candidate = ['the', 'cat', 'is', 'on', 'cat']\n",
    "# score = sentence_bleu(reference, candidate)\n",
    "# print(score)\n",
    "\n",
    "# use test rand indices to test on BLEU\n",
    "print(test_pairs[0])\n",
    "\n",
    "n_bleu_tests = 10\n",
    "\n",
    "score_total = 0\n",
    "\n",
    "for i in range(n_bleu_tests):\n",
    "    # get translation\n",
    "    input_sentence = test_pairs[i][0]\n",
    "    input_sequences, _ = text2sequences(len(input_sentence), [input_sentence])\n",
    "    translated_sentence = decode_sequence(input_seq)\n",
    "    \n",
    "    # get translation's bleu score\n",
    "    reference = [test_pairs[i][0].split()]\n",
    "    candidate = translated_sentence.split()\n",
    "    score = sentence_bleu(reference, candidate)\n",
    "    score_total += score\n",
    "    \n",
    "    print('-')\n",
    "    print('source sentence is: ' + input_sentence)\n",
    "    print('translated sentence is: ' + translated_sentence)\n",
    "    print('true traslation:', test_pairs[i][1])\n",
    "    print('score:', score)\n",
    "\n",
    "print(\"\\nAVERAGE SCORE:\", score_total / n_bleu_tests)\n"
   ]
  },
  {
   "cell_type": "code",
   "execution_count": null,
   "metadata": {},
   "outputs": [],
   "source": []
  }
 ],
 "metadata": {
  "kernelspec": {
   "display_name": "Python 3",
   "language": "python",
   "name": "python3"
  },
  "language_info": {
   "codemirror_mode": {
    "name": "ipython",
    "version": 3
   },
   "file_extension": ".py",
   "mimetype": "text/x-python",
   "name": "python",
   "nbconvert_exporter": "python",
   "pygments_lexer": "ipython3",
   "version": "3.7.0"
  }
 },
 "nbformat": 4,
 "nbformat_minor": 2
}
